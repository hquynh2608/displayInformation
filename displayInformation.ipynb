{
 "cells": [
  {
   "cell_type": "code",
   "execution_count": 1,
   "id": "576ad660",
   "metadata": {},
   "outputs": [
    {
     "name": "stdout",
     "output_type": "stream",
     "text": [
      "Nguyễn Thị Hương Quỳnh\n"
     ]
    }
   ],
   "source": [
    "print(\"Nguyễn Thị Hương Quỳnh\")"
   ]
  },
  {
   "cell_type": "code",
   "execution_count": 3,
   "id": "41c7935d",
   "metadata": {},
   "outputs": [
    {
     "name": "stdout",
     "output_type": "stream",
     "text": [
      "Ngày sinh:26/08/1993\n"
     ]
    }
   ],
   "source": [
    "print(\"Ngày sinh:26/08/1993\")"
   ]
  },
  {
   "cell_type": "code",
   "execution_count": null,
   "id": "d0c0f351",
   "metadata": {},
   "outputs": [],
   "source": []
  }
 ],
 "metadata": {
  "kernelspec": {
   "display_name": "Python 3",
   "language": "python",
   "name": "python3"
  },
  "language_info": {
   "codemirror_mode": {
    "name": "ipython",
    "version": 3
   },
   "file_extension": ".py",
   "mimetype": "text/x-python",
   "name": "python",
   "nbconvert_exporter": "python",
   "pygments_lexer": "ipython3",
   "version": "3.8.8"
  }
 },
 "nbformat": 4,
 "nbformat_minor": 5
}
